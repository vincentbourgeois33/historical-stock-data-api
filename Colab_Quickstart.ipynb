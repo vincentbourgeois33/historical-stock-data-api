{
 "cells": [
  {
   "cell_type": "markdown",
   "id": "9f838113",
   "metadata": {},
   "source": [
    "\n",
    "# Simple Stocks Data API — Colab Quickstart\n",
    "\n",
    "This notebook fetches **AAPL** data from the API on RapidAPI and:\n",
    "- Loads **price history** and plots the last 180 daily closes\n",
    "- Retrieves **financial statements**\n",
    "- Retrieves **earnings estimates**\n",
    "\n",
    "**Before you run:** set your RapidAPI key below.\n"
   ]
  },
  {
   "cell_type": "code",
   "execution_count": null,
   "id": "007f5841",
   "metadata": {},
   "outputs": [],
   "source": [
    "# Paste your RapidAPI key\n",
    "RAPIDAPI_KEY = \"YOUR_RAPIDAPI_KEY\"  # <-- replace this\n",
    "BASE = \"https://macrotrends-finance1.p.rapidapi.com\"\n",
    "HOST = \"macrotrends-finance1.p.rapidapi.com\"\n",
    "SYMBOL = \"AAPL\"\n",
    "\n",
    "assert RAPIDAPI_KEY and RAPIDAPI_KEY != \"YOUR_RAPIDAPI_KEY\", \"Please set RAPIDAPI_KEY first.\"\n"
   ]
  },
  {
   "cell_type": "code",
   "execution_count": null,
   "id": "62afd532",
   "metadata": {},
   "outputs": [],
   "source": [
    "# Install dependencies in Colab if needed\n",
    "import sys\n",
    "if \"google.colab\" in sys.modules:\n",
    "    %pip -q install requests pandas matplotlib > /dev/null\n"
   ]
  },
  {
   "cell_type": "code",
   "execution_count": null,
   "id": "d6d43399",
   "metadata": {},
   "outputs": [],
   "source": [
    "import requests, pandas as pd, pprint\n",
    "\n",
    "H = {\"X-RapidAPI-Key\": RAPIDAPI_KEY, \"X-RapidAPI-Host\": HOST}\n",
    "\n",
    "# --- Price History ---\n",
    "r_prices = requests.get(f\"{BASE}/price-history/{SYMBOL}\", headers=H, timeout=30)\n",
    "r_prices.raise_for_status()\n",
    "prices = r_prices.json()\n",
    "df = pd.DataFrame.from_dict(prices, orient=\"index\").sort_index()\n",
    "display(df.tail())\n",
    "\n",
    "# --- Financial Statements ---\n",
    "r_fin = requests.get(f\"{BASE}/financial-statements/{SYMBOL}\", headers=H, timeout=30)\n",
    "r_fin.raise_for_status()\n",
    "fin = r_fin.json()\n",
    "print(\"Financial statements keys:\", list(fin.keys())[:10])\n",
    "\n",
    "# --- Earnings Estimates ---\n",
    "r_est = requests.get(f\"{BASE}/earnings-estimates/{SYMBOL}\", headers=H, timeout=30)\n",
    "r_est.raise_for_status()\n",
    "est = r_est.json()\n",
    "print(\"Earnings estimates top-level keys:\", list(est.keys()))\n",
    "pprint.pp({k: est.get(k) for k in list(est.keys())[:2]})\n"
   ]
  },
  {
   "cell_type": "code",
   "execution_count": null,
   "id": "e7ce67f8",
   "metadata": {},
   "outputs": [],
   "source": [
    "# Plot last 180 closes using matplotlib (no seaborn)\n",
    "import matplotlib.pyplot as plt\n",
    "\n",
    "# Be tolerant if column name is 'close' or 'Close'\n",
    "close_col = 'close' if 'close' in df.columns else ('Close' if 'Close' in df.columns else None)\n",
    "if close_col is None:\n",
    "    raise ValueError(\"Could not find 'close' or 'Close' column in the response. Inspect df.columns\")\n",
    "\n",
    "last = df.tail(180)\n",
    "plt.figure(figsize=(10,4))\n",
    "plt.plot(last.index, last[close_col])\n",
    "plt.title(f\"{SYMBOL} — Last 180 daily closes\")\n",
    "plt.xlabel(\"Date\")\n",
    "plt.ylabel(\"Close\")\n",
    "plt.xticks(rotation=45)\n",
    "plt.tight_layout()\n",
    "plt.show()\n"
   ]
  }
 ],
 "metadata": {
  "colab": {
   "provenance": []
  }
 },
 "nbformat": 4,
 "nbformat_minor": 5
}
